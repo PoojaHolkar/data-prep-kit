{
 "cells": [
  {
   "cell_type": "markdown",
   "metadata": {},
   "source": [
    "Extracting Text from PDF and Configuring PII Redactor"
   ]
  },
  {
   "cell_type": "markdown",
   "metadata": {},
   "source": [
    "What is a PII Redactor?\n",
    "A PII (Personally Identifiable Information) Redactor is a tool or system designed to identify and redact sensitive information in text data. PII includes details that can be used to identify an individual, such as:\n",
    "\n",
    "Names\n",
    "Email addresses\n",
    "Phone numbers\n",
    "Physical or shipping addresses\n",
    "Financial details (e.g., credit card numbers)\n",
    "Use Case in This Project\n",
    "In this project, the PII Redactor is applied to text extracted from invoices to ensure sensitive customer information is not exposed during processing, sharing, or storage.\n",
    "\n",
    "Workflow Overview\n",
    "Text Extraction:\n",
    "\n",
    "The text from the invoice (a PDF document in this case) is extracted using the pdfplumber library.\n",
    "Redactor Configuration:\n",
    "\n",
    "The system is configured to recognize specific PII entities relevant to invoices, such as:\n",
    "Customer names\n",
    "Email addresses\n",
    "Phone numbers\n",
    "Shipping addresses\n",
    "PII Detection and Redaction:\n",
    "\n",
    "The redactor scans the extracted text and applies redaction rules, replacing sensitive details with placeholders.\n",
    "Output:\n",
    "\n",
    "The redacted text is displayed alongside a summary of all identified PII entities for auditing purposes.\n",
    "Why is PII Redaction Important?\n",
    "Data Privacy Compliance: Adheres to regulations like GDPR, HIPAA, or CCPA that mandate safeguarding customer information.\n",
    "Risk Mitigation: Prevents unauthorized access to or misuse of sensitive data.\n",
    "Automation Benefits: Simplifies and accelerates the process of securing information in large-scale document handling.\n"
   ]
  },
  {
   "cell_type": "code",
   "execution_count": 8,
   "metadata": {},
   "outputs": [],
   "source": [
    "import pdfplumber\n",
    "#from data_processing.transform.table_transform import AbstractTableTransform\n",
    "#from data_processing.transform import AbstractTableTransform, TransformConfiguration\n",
    "from pii_redactor_transform import PIIRedactorTransform\n"
   ]
  },
  {
   "cell_type": "markdown",
   "metadata": {},
   "source": [
    "Step 1: Extract Text from PDF"
   ]
  },
  {
   "cell_type": "code",
   "execution_count": 9,
   "metadata": {},
   "outputs": [],
   "source": [
    "\n",
    "#pdf_path = \"/Users/poojaholkar/GSI/WATSONX/WATSONXDATA/DPK/data-prep-kit-dev/invoicedata/invoice_garminwatch.pdf\"  # Replace with the path to your uploaded PDF\n",
    "pdf_path=\"/Users/poojaholkar/Downloads/Invoice.pdf\""
   ]
  },
  {
   "cell_type": "code",
   "execution_count": null,
   "metadata": {},
   "outputs": [
    {
     "ename": "SyntaxError",
     "evalue": "invalid syntax (2155885561.py, line 3)",
     "output_type": "error",
     "traceback": [
      "\u001b[0;36m  Cell \u001b[0;32mIn[8], line 3\u001b[0;36m\u001b[0m\n\u001b[0;31m    pip install presidio_analyzer\u001b[0m\n\u001b[0m        ^\u001b[0m\n\u001b[0;31mSyntaxError\u001b[0m\u001b[0;31m:\u001b[0m invalid syntax\n"
     ]
    }
   ],
   "source": [
    "#pip install flair\n",
    "#pip install spacy\n",
    "#pip install presidio_anonymizer==2.2.355\n",
    "#pip install numpy==1.26.4"
   ]
  },
  {
   "cell_type": "code",
   "execution_count": 10,
   "metadata": {},
   "outputs": [
    {
     "name": "stdout",
     "output_type": "stream",
     "text": [
      "Found existing installation: numpy 1.26.4\n",
      "Uninstalling numpy-1.26.4:\n",
      "  Successfully uninstalled numpy-1.26.4\n"
     ]
    }
   ],
   "source": [
    "!pip uninstall numpy --yes\n",
    "#!pip install numpy==1.19.3\n"
   ]
  },
  {
   "cell_type": "markdown",
   "metadata": {},
   "source": [
    "Step 1: Extract Text from PDF\n",
    "\n",
    "This step uses the pdfplumber library to open and read a PDF file. The code processes each page of the PDF to extract text and concatenates it into a single string."
   ]
  },
  {
   "cell_type": "code",
   "execution_count": 11,
   "metadata": {},
   "outputs": [],
   "source": [
    "with pdfplumber.open(pdf_path) as pdf:\n",
    "    text = \"\\n\".join(page.extract_text() for page in pdf.pages)\n",
    "\n"
   ]
  },
  {
   "cell_type": "markdown",
   "metadata": {},
   "source": [
    "#Step 2: Configure the PII Redactor\n"
   ]
  },
  {
   "cell_type": "markdown",
   "metadata": {},
   "source": [
    "\n",
    "This configuration defines the parameters for identifying and redacting Personally Identifiable Information (PII) in the extracted text."
   ]
  },
  {
   "cell_type": "code",
   "execution_count": 12,
   "metadata": {},
   "outputs": [],
   "source": [
    "\n",
    "config = {\n",
    "    \"entities\": [\"PERSON\", \"EMAIL_ADDRESS\", \"PHONE_NUMBER\", \"LOCATION\"],\n",
    "    \"operator\": \"replace\",\n",
    "    \"transformed_contents\": \"redacted_contents\",\n",
    "    \"score_threshold\": 0.6\n",
    "}"
   ]
  },
  {
   "cell_type": "markdown",
   "metadata": {},
   "source": [
    "Step 3: Initialize and Run the PII Redactor\n"
   ]
  },
  {
   "cell_type": "markdown",
   "metadata": {},
   "source": [
    "This step initializes the PII Redactor using the previously defined configuration and prepares it for processing the extracted text."
   ]
  },
  {
   "cell_type": "code",
   "execution_count": 13,
   "metadata": {},
   "outputs": [
    {
     "name": "stderr",
     "output_type": "stream",
     "text": [
      "20:33:16 INFO - Loading model from flair/ner-english-large\n"
     ]
    },
    {
     "name": "stdout",
     "output_type": "stream",
     "text": [
      "2024-11-24 20:33:33,105 SequenceTagger predicts: Dictionary with 20 tags: <unk>, O, S-ORG, S-MISC, B-PER, E-PER, S-LOC, B-ORG, E-ORG, I-PER, S-PER, B-MISC, I-MISC, E-MISC, I-ORG, B-LOC, E-LOC, I-LOC, <START>, <STOP>\n"
     ]
    }
   ],
   "source": [
    "\n",
    "redactor = PIIRedactorTransform(config)\n"
   ]
  },
  {
   "cell_type": "markdown",
   "metadata": {},
   "source": [
    "Step 4: Apply the Redactor to Text Data\n"
   ]
  },
  {
   "cell_type": "markdown",
   "metadata": {},
   "source": [
    "This step applies the initialized PII redactor to the extracted text, redacting sensitive information and providing details about the identified entities."
   ]
  },
  {
   "cell_type": "code",
   "execution_count": 14,
   "metadata": {},
   "outputs": [],
   "source": [
    "\n",
    "redacted_text, detected_entities = redactor._redact_pii(text)\n",
    "\n"
   ]
  },
  {
   "cell_type": "markdown",
   "metadata": {},
   "source": [
    "Step 5: Display the Redaction Results\n"
   ]
  },
  {
   "cell_type": "markdown",
   "metadata": {},
   "source": [
    "This step outputs the results of the redaction process, including the redacted text and the details of the detected PII entities.\n"
   ]
  },
  {
   "cell_type": "code",
   "execution_count": 15,
   "metadata": {},
   "outputs": [
    {
     "name": "stdout",
     "output_type": "stream",
     "text": [
      "Redacted Text:\n",
      " INVOICE\n",
      "Apple Inc.\n",
      "Invoice Details:\n",
      "Invoice Number: INV-2024-001\n",
      "Invoice Date: November 15, 2024\n",
      "Due Date: November 30, 2024\n",
      "Billing Information:\n",
      "Customer Name: <PERSON>\n",
      "Address: 123 <LOCATION>, Apt 45, <LOCATION>, <LOCATION> 62704\n",
      "Email: <EMAIL_ADDRESS>\n",
      "Phone: <PHONE_NUMBER>\n",
      "Shipping Information:\n",
      "Recipient Name: <PERSON>\n",
      "Address: 123 <LOCATION>, Apt 45, <LOCATION>, <LOCATION> 62704\n",
      "Item Details:\n",
      "Description Quantity Unit Price Total\n",
      "MacBook Air (13-inch, M2) 1 $999.00 $999.00\n",
      "AppleCare+ for MacBook Air 1 $199.00 $199.00\n",
      "Subtotal: $1,198.00\n",
      "Tax (8%): $95.84\n",
      "Total Amount Due: $1,293.84\n",
      "Payment Method: Credit Card (Visa)\n",
      "Transaction ID: 9876543210ABCDE\n",
      "Notes:\n",
      "Thank you for your purchase!\n",
      "For assistance, please contact our support team at <EMAIL_ADDRESS> or 1-800-MY-APPLE.\n",
      "Detected Entities:\n",
      " ['PERSON', 'LOCATION', 'LOCATION', 'LOCATION', 'EMAIL_ADDRESS', 'PERSON', 'LOCATION', 'LOCATION', 'LOCATION', 'EMAIL_ADDRESS', 'PHONE_NUMBER']\n"
     ]
    }
   ],
   "source": [
    "# Step 5: Print the Results\n",
    "print(\"Redacted Text:\\n\", redacted_text)\n",
    "print(\"Detected Entities:\\n\", detected_entities)"
   ]
  }
 ],
 "metadata": {
  "kernelspec": {
   "display_name": "data-prep-kit-1",
   "language": "python",
   "name": "python3"
  },
  "language_info": {
   "codemirror_mode": {
    "name": "ipython",
    "version": 3
   },
   "file_extension": ".py",
   "mimetype": "text/x-python",
   "name": "python",
   "nbconvert_exporter": "python",
   "pygments_lexer": "ipython3",
   "version": "3.11.9"
  }
 },
 "nbformat": 4,
 "nbformat_minor": 2
}
